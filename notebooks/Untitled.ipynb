{
 "cells": [
  {
   "cell_type": "code",
   "execution_count": null,
   "metadata": {},
   "outputs": [],
   "source": [
    "import ipywidgets\n",
    "import ipyvuetify.generated as v\n",
    "import ipyvuetify as v2\n",
    "import logging\n",
    "logging.info(\"notebook\")\n",
    "\n",
    "\n"
   ]
  },
  {
   "cell_type": "code",
   "execution_count": 2,
   "metadata": {},
   "outputs": [
    {
     "data": {
      "text/html": [
       "<link href=\"https://fonts.googleapis.com/css?family=Roboto:100,300,400,500,700,900|Material+Icons\" rel=\"stylesheet\">\n"
      ],
      "text/plain": [
       "<IPython.core.display.HTML object>"
      ]
     },
     "metadata": {},
     "output_type": "execute_result"
    }
   ],
   "source": [
    "%%HTML\n",
    "<link href=\"https://fonts.googleapis.com/css?family=Roboto:100,300,400,500,700,900|Material+Icons\" rel=\"stylesheet\">"
   ]
  },
  {
   "cell_type": "code",
   "execution_count": 3,
   "metadata": {},
   "outputs": [
    {
     "data": {
      "text/plain": [
       "Slider()"
      ]
     },
     "metadata": {},
     "output_type": "display_data"
    }
   ],
   "source": [
    "# bla = v.BtnToggle(color=\"blue\", children=[v.Btn(children=[\"btn\"])])\n",
    "# bla\n",
    "v.Calendar()\n",
    "v.Slider()"
   ]
  },
  {
   "cell_type": "code",
   "execution_count": 4,
   "metadata": {},
   "outputs": [
    {
     "data": {
      "text/plain": [
       "Btn(children=[Text(value='iets'), Icon(children=['fingerprint'], color='yellow', large=True, right=True)], cli…"
      ]
     },
     "metadata": {},
     "output_type": "display_data"
    }
   ],
   "source": [
    "text = v.Text(value = \"hoi23\")\n",
    "\n",
    "button = v.Btn(\n",
    "    round = True,\n",
    "    color = \"blue\",\n",
    "    click = True,\n",
    "    children = [\n",
    "        v.Text(value=\"iets\"), \n",
    "        v.Icon(right = True, large = True, color = \"yellow\", children=[\"fingerprint\"])])\n",
    "\n",
    "def on_click(widget, event, data):\n",
    "    if widget.color == \"blue\":\n",
    "        widget.color = \"red\"\n",
    "    else:    \n",
    "        widget.color = \"blue\"\n",
    "    logger.info(f\"click notebook {data}\")\n",
    "\n",
    "\n",
    "\n",
    "\n",
    "button"
   ]
  },
  {
   "cell_type": "code",
   "execution_count": 68,
   "metadata": {},
   "outputs": [],
   "source": [
    "# button.children[1].children = [\"home\"]\n",
    "# button.on_event(\"click\", on_click, False)\n",
    "\n",
    "# button.children =[]\n",
    "if button.events:\n",
    "    button.on_event(\"click\", on_click, True)\n",
    "else:    \n",
    "    button.on_event(\"click\", on_click)\n",
    "#button.events = []\n"
   ]
  },
  {
   "cell_type": "code",
   "execution_count": 71,
   "metadata": {},
   "outputs": [],
   "source": [
    "#button"
   ]
  },
  {
   "cell_type": "code",
   "execution_count": null,
   "metadata": {},
   "outputs": [],
   "source": [
    "v.Layout(children=[\n",
    "    v.Flex(xs12 = True, sm6 = True, offset_sm3 = True,\n",
    "           children=[\n",
    "        v.Card(\n",
    "            children=[\n",
    "                v.Img(\n",
    "                    src=\"https://cdn.vuetifyjs.com/images/cards/desert.jpg\",\n",
    "                    aspect_ratio=2.75\n",
    "                ),\n",
    "                v.CardTitle(\n",
    "                    primary_title=True,\n",
    "                    children=[\n",
    "                       v2.Html(tag=\"div\", \n",
    "                               children=[\n",
    "                                   v2.Html(tag=\"h3\", attributes={\"class\": \"headline mb-0\"}, \n",
    "                                           children=[\"Kangaroo Valley Safari\"]),\n",
    "                                   v2.Html(tag=\"div\", \n",
    "                                          children=[\n",
    "                                              v.Icon(right = True, x_large = True, color = \"red\", children=[\"home\"]),\n",
    "                                              \"Lorem ipsum dolor sit amet, brute iriure accusata ne mea. Eos suavitate referrentur ad, te duo agam libris qualisque, utroque quaestio accommodare no qui. Et percipit laboramus usu, no invidunt verterem nominati mel. Dolorem ancillae an mei, ut putant invenire splendide mel, ea nec propriae adipisci. Ignota salutandi accusamus in sed, et per malis fuisset, qui id ludus appareat.\"\n",
    "                                          ])\n",
    "                               ])]),\n",
    "                v.CardActions(\n",
    "                    children=[\n",
    "                        v.Btn(flat=True, color=\"orange\", children=[v.Text(value = \"Share\")]),\n",
    "                        v.Btn(flat=True, color=\"orange\", children=[v.Text(value = \"Explore\")]),\n",
    "                    ])\n",
    "\n",
    "            ]\n",
    "        )\n",
    "    ])\n",
    "])    "
   ]
  },
  {
   "cell_type": "code",
   "execution_count": null,
   "metadata": {},
   "outputs": [],
   "source": [
    "v2.Html(tag=\"div\", children=[\n",
    "    v.Badge(children=[       \n",
    "#         v2.Html(tag=\"span\", slot=\"badge\", attributes={}, children=[\"9+\"]),\n",
    "#         v.Text(value=\"hoi\", slot=\"badge\"),\n",
    "        v.Icon(small=True, slot=\"badge\",  color=\"grey lighten-1\", children=[\"shopping_cart\"]),\n",
    "\n",
    "        v.Icon(large=True, color=\"yellow\", children=[\"shopping_cart\"])\n",
    "    ])]) \n"
   ]
  },
  {
   "cell_type": "code",
   "execution_count": null,
   "metadata": {},
   "outputs": [],
   "source": [
    "v.Checkbox(children=[\n",
    "#     v2.Html(tag=\"span\", slot=\"append\", attributes={}, children=[\"9+\"])\n",
    "    v.Icon(small=True, slot=\"append\",  color=\"grey lighten-1\", children=[\"shopping_cart\"])\n",
    "])"
   ]
  },
  {
   "cell_type": "code",
   "execution_count": null,
   "metadata": {},
   "outputs": [],
   "source": []
  },
  {
   "cell_type": "code",
   "execution_count": null,
   "metadata": {},
   "outputs": [],
   "source": []
  }
 ],
 "metadata": {
  "kernelspec": {
   "display_name": "Python 3",
   "language": "python",
   "name": "python3"
  },
  "language_info": {
   "codemirror_mode": {
    "name": "ipython",
    "version": 3
   },
   "file_extension": ".py",
   "mimetype": "text/x-python",
   "name": "python",
   "nbconvert_exporter": "python",
   "pygments_lexer": "ipython3",
   "version": "3.7.1"
  }
 },
 "nbformat": 4,
 "nbformat_minor": 2
}
