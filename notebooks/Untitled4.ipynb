{
 "cells": [
  {
   "cell_type": "code",
   "execution_count": 1,
   "metadata": {},
   "outputs": [],
   "source": [
    "import ipywidgets as widgets\n",
    "import ipyvuetify.generated as v\n",
    "import ipyvuetify as v2"
   ]
  },
  {
   "cell_type": "code",
   "execution_count": 3,
   "metadata": {},
   "outputs": [],
   "source": [
    "#%%HTML\n",
    "#<link href=\"https://fonts.googleapis.com/css?family=Roboto:100,300,400,500,700,900|Material+Icons\" rel=\"stylesheet\">"
   ]
  },
  {
   "cell_type": "code",
   "execution_count": 2,
   "metadata": {},
   "outputs": [],
   "source": [
    "text1 = \"Jupyter\"\n",
    "text2 = \"Jupyter Widgets\"\n",
    "text3 = \"Material UI\"\n",
    "text4 = \"React\"\n",
    "texts = [text1, text2, text3, text4]"
   ]
  },
  {
   "cell_type": "code",
   "execution_count": 3,
   "metadata": {},
   "outputs": [],
   "source": [
    "chip = v.Chip(children=[text1], vstyle=\"color: blue\")"
   ]
  },
  {
   "cell_type": "code",
   "execution_count": 4,
   "metadata": {},
   "outputs": [
    {
     "data": {
      "application/vnd.jupyter.widget-view+json": {
       "model_id": "7e1bad0690b248b39e0c4ac75739c180",
       "version_major": 2,
       "version_minor": 0
      },
      "text/plain": [
       "Chip(children=['Jupyter'], vstyle='color: blue')"
      ]
     },
     "metadata": {},
     "output_type": "display_data"
    }
   ],
   "source": [
    "chip"
   ]
  },
  {
   "cell_type": "code",
   "execution_count": 5,
   "metadata": {},
   "outputs": [],
   "source": [
    "chip.vstyle=\"color: green\""
   ]
  },
  {
   "cell_type": "code",
   "execution_count": 6,
   "metadata": {},
   "outputs": [],
   "source": [
    "chip.v_model=True"
   ]
  },
  {
   "cell_type": "code",
   "execution_count": 7,
   "metadata": {},
   "outputs": [
    {
     "data": {
      "application/vnd.jupyter.widget-view+json": {
       "model_id": "32748414e72647838067ccbfe6853cbb",
       "version_major": 2,
       "version_minor": 0
      },
      "text/plain": [
       "Html(children=[Chip(children=['Jupyter']), Chip(children=['Jupyter Widgets']), Chip(children=['Material UI']),…"
      ]
     },
     "metadata": {},
     "output_type": "display_data"
    }
   ],
   "source": [
    "chips = [v.Chip(children=[text]) for text in texts]\n",
    "chips_div = v2.Html(tag=\"div\", children=chips)\n",
    "chips_div"
   ]
  },
  {
   "cell_type": "code",
   "execution_count": 8,
   "metadata": {
    "scrolled": true
   },
   "outputs": [
    {
     "data": {
      "application/vnd.jupyter.widget-view+json": {
       "model_id": "e85b35860c334c48bc2302b272c88580",
       "version_major": 2,
       "version_minor": 0
      },
      "text/plain": [
       "VBox(children=(Btn(children=['Jupyter Widgets'], events=['click']), Output()))"
      ]
     },
     "metadata": {},
     "output_type": "display_data"
    }
   ],
   "source": [
    "out = widgets.Output()\n",
    "b = v.Btn(children=[text2])\n",
    "@out.capture()\n",
    "def click(button, _1, _2):\n",
    "    print(text3)\n",
    "b.on_event(\"click\", click)\n",
    "widgets.VBox([b, out])"
   ]
  },
  {
   "cell_type": "code",
   "execution_count": 9,
   "metadata": {
    "scrolled": false
   },
   "outputs": [
    {
     "data": {
      "application/vnd.jupyter.widget-view+json": {
       "model_id": "0c12670b0e2c476ca3f6ff8a29674de8",
       "version_major": 2,
       "version_minor": 0
      },
      "text/plain": [
       "VBox(children=(Checkbox(value=False, description='Jupyter'), Checkbox(label='React', rules=[], v_model=True, v…"
      ]
     },
     "metadata": {},
     "output_type": "display_data"
    }
   ],
   "source": [
    "checkbox_mui = v.Checkbox(v_model=True, label=text4, vclass=\"ma-3\")\n",
    "checkbox_classic = widgets.Checkbox(description=text1)\n",
    "widgets.jslink((checkbox_mui, 'v_model'), (checkbox_classic, 'value'))\n",
    "widgets.VBox([checkbox_classic, checkbox_mui])"
   ]
  },
  {
   "cell_type": "code",
   "execution_count": 10,
   "metadata": {},
   "outputs": [
    {
     "data": {
      "application/vnd.jupyter.widget-view+json": {
       "model_id": "eead0525f9114b338b8b1f24fc016487",
       "version_major": 2,
       "version_minor": 0
      },
      "text/plain": [
       "BtnToggle(children=[Btn(children=['Jupyter Widgets'], v_model=True)])"
      ]
     },
     "metadata": {},
     "output_type": "display_data"
    }
   ],
   "source": [
    "btn1 = v.Btn(v_model=True, children=[text2])\n",
    "toggle_button = v.BtnToggle(children=[btn1])\n",
    "widgets.jslink((btn1, 'v_model'), (checkbox_classic, 'value'))\n",
    "toggle_button"
   ]
  },
  {
   "cell_type": "code",
   "execution_count": 11,
   "metadata": {},
   "outputs": [],
   "source": [
    "btn1.v_model=False"
   ]
  },
  {
   "cell_type": "code",
   "execution_count": 12,
   "metadata": {},
   "outputs": [
    {
     "data": {
      "application/vnd.jupyter.widget-view+json": {
       "model_id": "2619a8a1466547caa61efbb5986bed62",
       "version_major": 2,
       "version_minor": 0
      },
      "text/plain": [
       "List(children=[ListTile(children=[ListTileContent(children=[ListTileTitle(children=['Jupyter']), ListTileSubTi…"
      ]
     },
     "metadata": {},
     "output_type": "display_data"
    }
   ],
   "source": [
    "#TODO: v-ribbon directive\n",
    "def on_click(elem, _1, _2):\n",
    "    print(\"click\")\n",
    "\n",
    "list_content = v.ListTile(children=[v.ListTileContent(children=[\n",
    "        v.ListTileTitle(children=[text2]),\n",
    "        v.ListTileSubTitle(children=[text4])])])\n",
    "list_content.on_event(\"click\", on_click)\n",
    "    \n",
    "list_items=v.List(two_line=True, children=[\n",
    "    v.ListTile(children=[v.ListTileContent(children=[\n",
    "        v.ListTileTitle(children=[text1]),\n",
    "        v.ListTileSubTitle(children=[text4])])]),\n",
    "     v.Divider(),\n",
    "    list_content,\n",
    "    v.Divider(),\n",
    "    v.ListTile(children=[v.ListTileContent(children=[\n",
    "        v.ListTileTitle(children=[text3]),\n",
    "        v.ListTileSubTitle(children=[text1])])]),\n",
    "    v.Divider(),\n",
    "    v.ListTile(children=[v.ListTileContent(children=[\n",
    "        v.ListTileTitle(children=[text4]),\n",
    "        v.ListTileSubTitle(children=[text2])])])\n",
    "    ])\n",
    "list_items"
   ]
  },
  {
   "cell_type": "code",
   "execution_count": 13,
   "metadata": {
    "scrolled": true
   },
   "outputs": [
    {
     "data": {
      "application/vnd.jupyter.widget-view+json": {
       "model_id": "bf90aeaa271a40b88a3832fd4a54c19b",
       "version_major": 2,
       "version_minor": 0
      },
      "text/plain": [
       "Menu(children=[Tooltip(bottom=True, children=[Btn(children=['Menu'], slot='activator'), 'Tooltipje'], slot='ac…"
      ]
     },
     "metadata": {},
     "output_type": "display_data"
    }
   ],
   "source": [
    "menu = v.Menu(\n",
    "    offset_y=True,\n",
    "    children=[\n",
    "        v.Tooltip(\n",
    "            bottom=True,\n",
    "            slot=\"activator\",\n",
    "            children=[\n",
    "                v.Btn(\n",
    "                    slot=\"activator\", \n",
    "                    children=[\"Menu\"]),\n",
    "                \"Tooltipje\"]),\n",
    "        v.List(children=[\n",
    "            v.ListTile(children=[v.ListTileTitle(children=[\"Title\"])]),\n",
    "            v.ListTile(children=[v.ListTileTitle(children=[\"Title2\"])])\n",
    "        ])\n",
    "])\n",
    "menu\n"
   ]
  },
  {
   "cell_type": "code",
   "execution_count": 14,
   "metadata": {},
   "outputs": [
    {
     "data": {
      "application/vnd.jupyter.widget-view+json": {
       "model_id": "bf90aeaa271a40b88a3832fd4a54c19b",
       "version_major": 2,
       "version_minor": 0
      },
      "text/plain": [
       "Menu(children=[Tooltip(bottom=True, children=[Btn(children=['Menu'], slot='activator'), 'Tooltipje'], slot='ac…"
      ]
     },
     "metadata": {},
     "output_type": "display_data"
    }
   ],
   "source": [
    "menu"
   ]
  },
  {
   "cell_type": "code",
   "execution_count": 15,
   "metadata": {
    "scrolled": true
   },
   "outputs": [
    {
     "data": {
      "application/vnd.jupyter.widget-view+json": {
       "model_id": "1b4158cd5b0b49b6875c0c9ad6bd34bd",
       "version_major": 2,
       "version_minor": 0
      },
      "text/plain": [
       "BtnToggle(children=[Btn(children=['btn1']), Btn(children=['btn2']), Btn(children=['btn3']), Btn(children=['btn…"
      ]
     },
     "metadata": {},
     "output_type": "display_data"
    }
   ],
   "source": [
    "toggle = v.BtnToggle(v_model=[1,2], multiple=True, children=[\n",
    "    v.Btn(children=[\"btn1\"]),\n",
    "    v.Btn(children=[\"btn2\"]),\n",
    "    v.Btn(children=[\"btn3\"]),\n",
    "    v.Btn(children=[\"btn3\"])])\n",
    "toggle"
   ]
  },
  {
   "cell_type": "code",
   "execution_count": 16,
   "metadata": {},
   "outputs": [
    {
     "data": {
      "text/plain": [
       "[1, 2]"
      ]
     },
     "execution_count": 16,
     "metadata": {},
     "output_type": "execute_result"
    }
   ],
   "source": [
    "toggle.v_model"
   ]
  },
  {
   "cell_type": "code",
   "execution_count": null,
   "metadata": {},
   "outputs": [],
   "source": []
  },
  {
   "cell_type": "code",
   "execution_count": 17,
   "metadata": {},
   "outputs": [
    {
     "data": {
      "application/vnd.jupyter.widget-view+json": {
       "model_id": "6fb387752b5e46fe839c24d7b616c959",
       "version_major": 2,
       "version_minor": 0
      },
      "text/plain": [
       "Select(items=['Jupyter', 'Jupyter Widgets', 'Material UI'], label='Label2', rules=[])"
      ]
     },
     "metadata": {},
     "output_type": "display_data"
    }
   ],
   "source": [
    "select1=v.Select(label=\"Label2\", items=[text1, text2, text3])\n",
    "select1"
   ]
  },
  {
   "cell_type": "code",
   "execution_count": 18,
   "metadata": {
    "scrolled": true
   },
   "outputs": [
    {
     "data": {
      "application/vnd.jupyter.widget-view+json": {
       "model_id": "db7a513782e145efb8e8563e6c8c130d",
       "version_major": 2,
       "version_minor": 0
      },
      "text/plain": [
       "Select(items=[{'text': 'Jupyter', 'value': 0}, {'text': 'Jupyter Widgets', 'value': 1}, {'text': 'Material UI'…"
      ]
     },
     "metadata": {},
     "output_type": "display_data"
    }
   ],
   "source": [
    "select_multiple=v.Select(\n",
    "    multiple=True,\n",
    "    label=\"Multi select\",\n",
    "    v_model=[],\n",
    "    items=[{\"text\": text1, \"value\": 0},\n",
    "          {\"text\": text2, \"value\": 1},\n",
    "          {\"text\": text3, \"value\": 3.14}])\n",
    "select_multiple"
   ]
  },
  {
   "cell_type": "code",
   "execution_count": 19,
   "metadata": {},
   "outputs": [],
   "source": [
    "select_multiple.v_model = []\n",
    "select_multiple.label = 'New selection'"
   ]
  },
  {
   "cell_type": "code",
   "execution_count": 20,
   "metadata": {},
   "outputs": [
    {
     "data": {
      "application/vnd.jupyter.widget-view+json": {
       "model_id": "9984cce1c3b74d72956d952b748e5a98",
       "version_major": 2,
       "version_minor": 0
      },
      "text/plain": [
       "TextField(label='Name', placeholder='e.g. Maarten Breddels', rules=[])"
      ]
     },
     "metadata": {},
     "output_type": "display_data"
    }
   ],
   "source": [
    "text_field = v.TextField(placeholder='e.g. Maarten Breddels', label='Name')\n",
    "text_field"
   ]
  },
  {
   "cell_type": "code",
   "execution_count": 21,
   "metadata": {},
   "outputs": [
    {
     "data": {
      "application/vnd.jupyter.widget-view+json": {
       "model_id": "39637ef33a964fb492a0e70643c8503b",
       "version_major": 2,
       "version_minor": 0
      },
      "text/plain": [
       "Tabs(children=[Tab(children=['Tab: Jupyter']), Tab(children=['Tab: Jupyter Widgets']), Tab(children=['Tab: Mat…"
      ]
     },
     "metadata": {},
     "output_type": "display_data"
    }
   ],
   "source": [
    "texts=[text1, text2, text3, text4]\n",
    "content=[v.TabItem(children=['Content: ' + text]) for text in texts] \n",
    "tabs = v.Tabs(\n",
    "    v_model=2, \n",
    "    children=([v.Tab(children=['Tab: ' + text]) for text in texts]  + content))\n",
    "tabs"
   ]
  },
  {
   "cell_type": "code",
   "execution_count": 22,
   "metadata": {},
   "outputs": [
    {
     "data": {
      "text/plain": [
       "2"
      ]
     },
     "execution_count": 22,
     "metadata": {},
     "output_type": "execute_result"
    }
   ],
   "source": [
    "tabs.v_model"
   ]
  },
  {
   "cell_type": "code",
   "execution_count": 23,
   "metadata": {
    "scrolled": false
   },
   "outputs": [],
   "source": [
    "for k, color in enumerate('red green blue orange'.split()):\n",
    "    content[k].vstyle = f\"color: {color};\"\n"
   ]
  },
  {
   "cell_type": "code",
   "execution_count": 24,
   "metadata": {},
   "outputs": [
    {
     "data": {
      "application/vnd.jupyter.widget-view+json": {
       "model_id": "3e5978d7e29049b5ac55ed631c6e27cb",
       "version_major": 2,
       "version_minor": 0
      },
      "text/plain": [
       "Switch(label='Hoi', rules=[], v_model=False)"
      ]
     },
     "metadata": {},
     "output_type": "display_data"
    }
   ],
   "source": [
    "switch = v.Switch(v_model=False, label=\"Hoi\")\n",
    "switch"
   ]
  },
  {
   "cell_type": "code",
   "execution_count": 25,
   "metadata": {},
   "outputs": [],
   "source": [
    "switch.v_model=True"
   ]
  },
  {
   "cell_type": "code",
   "execution_count": 27,
   "metadata": {},
   "outputs": [
    {
     "data": {
      "application/vnd.jupyter.widget-view+json": {
       "model_id": "5666db999fb24f7c810185402dedc25b",
       "version_major": 2,
       "version_minor": 0
      },
      "text/plain": [
       "Icon(children=['home'])"
      ]
     },
     "metadata": {},
     "output_type": "display_data"
    }
   ],
   "source": [
    "icon = v.Icon(children=[\"home\"])\n",
    "icon"
   ]
  },
  {
   "cell_type": "code",
   "execution_count": 28,
   "metadata": {},
   "outputs": [],
   "source": [
    "icon.children=[\"fingerprint\"]"
   ]
  },
  {
   "cell_type": "code",
   "execution_count": null,
   "metadata": {},
   "outputs": [],
   "source": []
  }
 ],
 "metadata": {
  "kernelspec": {
   "display_name": "Python 3",
   "language": "python",
   "name": "python3"
  },
  "language_info": {
   "codemirror_mode": {
    "name": "ipython",
    "version": 3
   },
   "file_extension": ".py",
   "mimetype": "text/x-python",
   "name": "python",
   "nbconvert_exporter": "python",
   "pygments_lexer": "ipython3",
   "version": "3.7.1"
  }
 },
 "nbformat": 4,
 "nbformat_minor": 2
}
