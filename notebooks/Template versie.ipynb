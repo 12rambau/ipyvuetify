{
 "cells": [
  {
   "cell_type": "code",
   "execution_count": 1,
   "metadata": {},
   "outputs": [],
   "source": [
    "import ipywidgets as widgets\n",
    "import ipyvuetify.generated as v\n",
    "import ipyvuetify as v2\n",
    "\n",
    "import logging\n",
    "logging.basicConfig(filename='log_filename.txt', level=logging.DEBUG, format='%(asctime)s - %(levelname)s - %(message)s')\n",
    "\n",
    "from traitlets import (\n",
    "    Unicode, Enum, Instance, Union, Float, Int, List, Tuple, Dict,\n",
    "    Undefined, Bool, Any)    "
   ]
  },
  {
   "cell_type": "code",
   "execution_count": 36,
   "metadata": {},
   "outputs": [],
   "source": [
    "#%%HTML\n",
    "#<link href=\"https://fonts.googleapis.com/css?family=Roboto:100,300,400,500,700,900|Material+Icons\" rel=\"stylesheet\">"
   ]
  },
  {
   "cell_type": "code",
   "execution_count": 6,
   "metadata": {},
   "outputs": [
    {
     "data": {
      "application/vnd.jupyter.widget-view+json": {
       "model_id": "e9c94f3bda2e496eac148ed06eea95ff",
       "version_major": 2,
       "version_minor": 0
      },
      "text/plain": [
       "CountBtn(events=['klik'])"
      ]
     },
     "metadata": {},
     "output_type": "display_data"
    }
   ],
   "source": [
    "class CountBtn(v2.VuetifyTemplate):\n",
    "    count = Int(0).tag(sync=True)\n",
    "    \n",
    "    template = Unicode('''<v-btn @click=\"klik\">Click Me {{count}}</v-btn>''').tag(sync=True)\n",
    "    \n",
    "    def vue_klik(self, _):\n",
    "        self.count = self.count + 1\n",
    "\n",
    "countBtn = CountBtn()\n",
    "countBtn"
   ]
  },
  {
   "cell_type": "code",
   "execution_count": null,
   "metadata": {},
   "outputs": [],
   "source": []
  },
  {
   "cell_type": "code",
   "execution_count": 8,
   "metadata": {},
   "outputs": [],
   "source": [
    "class MyMenu(v2.VuetifyTemplate):\n",
    "    color = Unicode(\"primary\").tag(sync=True)\n",
    "    items = List([\"Click Me\", \"Click Me\", \"Click Me\", \"Click Me2\"]).tag(sync=True)\n",
    "   # items = List().tag(sync=True)\n",
    "    \n",
    "    colors = [\"error\", \"primary\", \"yellow\", \"pink\"]\n",
    "    #components = [(\"cntBtn\", countBtn)]\n",
    "    \n",
    "    def vue_klik(self, index):\n",
    "        logging.info(f\"klik {index}\")\n",
    "        self.color = self.colors[index]"
   ]
  },
  {
   "cell_type": "code",
   "execution_count": 9,
   "metadata": {
    "scrolled": true
   },
   "outputs": [
    {
     "data": {
      "application/vnd.jupyter.widget-view+json": {
       "model_id": "b2c26894e13541888d2350b358a5b23b",
       "version_major": 2,
       "version_minor": 0
      },
      "text/plain": [
       "MyMenu(events=['klik'], items=['Click Me', 'Click Me', 'Click Me', 'Click Me2'], template='\\n        <div>\\n  …"
      ]
     },
     "metadata": {},
     "output_type": "display_data"
    }
   ],
   "source": [
    "myMenu = MyMenu(\n",
    "#    components={\"cntBtn\": countBtn}, \n",
    "    #<cntBtn></cntBtn>\n",
    "    template='''\n",
    "        <div>\n",
    "            <div class=\"text-xs-center\">\n",
    "                <v-menu offset-y >\n",
    "                  <template v-slot:activator=\"{ on }\">\n",
    "                    <!-- v-tooltip top>\n",
    "                        <template v-slot:activator=\"{ on}\" -->\n",
    "                            <v-btn :color=\"color\" dark v-on=\"on\">\n",
    "                              Dropdown\n",
    "                            </v-btn>\n",
    "                        <!-- /template>\n",
    "                        Dit is een dropdown\n",
    "                    </v-tooltip -->    \n",
    "                  </template>\n",
    "                  <v-list>\n",
    "                    <v-list-tile v-for=\"(item, index) in items\"\n",
    "                          :key=\"index\" @click=\"klik(index)\">\n",
    "                      <v-list-tile-title>\n",
    "                          {{ item }}\n",
    "                      </v-list-tile-title>\n",
    "                    </v-list-tile>\n",
    "                  </v-list>\n",
    "                </v-menu>\n",
    "            </div>\n",
    "        </div>''')\n",
    "myMenu"
   ]
  },
  {
   "cell_type": "code",
   "execution_count": 10,
   "metadata": {},
   "outputs": [],
   "source": [
    "myMenu.color = \"green\""
   ]
  },
  {
   "cell_type": "code",
   "execution_count": 11,
   "metadata": {},
   "outputs": [
    {
     "data": {
      "application/vnd.jupyter.widget-view+json": {
       "model_id": "f8a99175c2e6492697c6ffa4a57b2af8",
       "version_major": 2,
       "version_minor": 0
      },
      "text/plain": [
       "MyMenu(components={'menu1': MyMenu(color='green', events=['klik'], items=['Click Me', 'Click Me', 'Click Me', …"
      ]
     },
     "metadata": {},
     "output_type": "display_data"
    }
   ],
   "source": [
    "myMenu2 = MyMenu(\n",
    "    components={\"menu1\": myMenu}, \n",
    "    template='''\n",
    "        <div class=\"text-xs-center\">\n",
    "            <v-menu >\n",
    "              <template v-slot:activator=\"{ on }\">\n",
    "                <v-btn :color=\"color\" dark v-on=\"on\">\n",
    "                  Dropdown\n",
    "                </v-btn>\n",
    "              </template>\n",
    "              <v-list>\n",
    "                <v-list-tile v-for=\"(item, index) in items\"\n",
    "                  :key=\"index\" @click=\"klik(index)\">\n",
    "                  <v-list-tile-title>{{ item }}</v-list-tile-title>\n",
    "                </v-list-tile>\n",
    "                <v-list-tile>\n",
    "                    <menu1></menu1>\n",
    "                </v-list-tile>\n",
    "              </v-list>\n",
    "            </v-menu>\n",
    "        </div>''')\n",
    "myMenu2"
   ]
  },
  {
   "cell_type": "code",
   "execution_count": 12,
   "metadata": {},
   "outputs": [],
   "source": [
    "class TmpSliders(v2.VuetifyTemplate):\n",
    "    pos_x = Int(10).tag(sync=True)\n",
    "    pos_y = Int(90).tag(sync=True)\n",
    "    template = Unicode('''\n",
    "        <div>\n",
    "            <v-slider v-model=\"pos_x\"></v-slider>\n",
    "            <v-slider v-model=\"pos_y\"></v-slider>\n",
    "        </div>''').tag(sync=True)"
   ]
  },
  {
   "cell_type": "code",
   "execution_count": 13,
   "metadata": {},
   "outputs": [
    {
     "data": {
      "application/vnd.jupyter.widget-view+json": {
       "model_id": "4c376bc1dbe74d76a269c57b9541aa1d",
       "version_major": 2,
       "version_minor": 0
      },
      "text/plain": [
       "TmpSliders()"
      ]
     },
     "metadata": {},
     "output_type": "display_data"
    }
   ],
   "source": [
    "tmpSliders = TmpSliders()\n",
    "tmpSliders"
   ]
  },
  {
   "cell_type": "code",
   "execution_count": 14,
   "metadata": {},
   "outputs": [
    {
     "data": {
      "text/plain": [
       "10"
      ]
     },
     "execution_count": 14,
     "metadata": {},
     "output_type": "execute_result"
    }
   ],
   "source": [
    "tmpSliders.pos_x"
   ]
  },
  {
   "cell_type": "code",
   "execution_count": 15,
   "metadata": {},
   "outputs": [
    {
     "data": {
      "application/vnd.jupyter.widget-view+json": {
       "model_id": "24c84eb5268c4ccba8d7ee662c690149",
       "version_major": 2,
       "version_minor": 0
      },
      "text/plain": [
       "TmpSliders()"
      ]
     },
     "metadata": {},
     "output_type": "display_data"
    }
   ],
   "source": [
    "tmpSliders2 = TmpSliders()\n",
    "widgets.jslink((tmpSliders, 'pos_x'), (tmpSliders2, 'pos_x'))\n",
    "tmpSliders2"
   ]
  },
  {
   "cell_type": "code",
   "execution_count": 16,
   "metadata": {},
   "outputs": [
    {
     "data": {
      "application/vnd.jupyter.widget-view+json": {
       "model_id": "df89593eb8144c5ea03594d469573dad",
       "version_major": 2,
       "version_minor": 0
      },
      "text/plain": [
       "Label(value='hoi')"
      ]
     },
     "metadata": {},
     "output_type": "display_data"
    }
   ],
   "source": [
    "label = widgets.Label(value='hoi')\n",
    "widgets.jslink((tmpSliders, 'pos_x'), (label, 'value'))\n",
    "label"
   ]
  },
  {
   "cell_type": "code",
   "execution_count": 37,
   "metadata": {
    "scrolled": false
   },
   "outputs": [
    {
     "data": {
      "application/vnd.jupyter.widget-view+json": {
       "model_id": "4afeea4340d7467ba6133712400a80cd",
       "version_major": 2,
       "version_minor": 0
      },
      "text/plain": [
       "Select2(items=['a', 'b', 'c'])"
      ]
     },
     "metadata": {},
     "output_type": "display_data"
    }
   ],
   "source": [
    "class Select2(v2.VuetifyTemplate):\n",
    "    items = List().tag(sync=True)\n",
    "    selected_item = Unicode(None, allow_none=True).tag(sync=True)\n",
    "    template = Unicode('''<v-select label=\"iets\" :items=\"items\" \n",
    "    v-model=\"selected_item\" clearable></v-select>''').tag(sync=True)\n",
    "\n",
    "select2 = Select2(items=['a', 'b', 'c'])\n",
    "select2"
   ]
  },
  {
   "cell_type": "code",
   "execution_count": 27,
   "metadata": {},
   "outputs": [],
   "source": [
    "select2.selected_item=None"
   ]
  },
  {
   "cell_type": "code",
   "execution_count": 28,
   "metadata": {},
   "outputs": [
    {
     "data": {
      "application/vnd.jupyter.widget-view+json": {
       "model_id": "57f677c186ae47b9879f6f6a3ff52e0f",
       "version_major": 2,
       "version_minor": 0
      },
      "text/plain": [
       "VuetifyTemplate(template='<v-chip>hoi</v-chip>')"
      ]
     },
     "metadata": {},
     "output_type": "display_data"
    }
   ],
   "source": [
    "v2.VuetifyTemplate(template='''<v-chip>hoi</v-chip>''')"
   ]
  },
  {
   "cell_type": "code",
   "execution_count": 29,
   "metadata": {
    "scrolled": false
   },
   "outputs": [
    {
     "data": {
      "application/vnd.jupyter.widget-view+json": {
       "model_id": "054b687e1e8d45928ad5e5dc5a270605",
       "version_major": 2,
       "version_minor": 0
      },
      "text/plain": [
       "Select3(items=[{'text': 'a', 'value': 1}, {'text': 'b', 'value': 3.14}, {'text': 'c', 'value': 'hoi'}])"
      ]
     },
     "metadata": {},
     "output_type": "display_data"
    }
   ],
   "source": [
    "class Select3(v2.VuetifyTemplate):\n",
    "    items = List().tag(sync=True)\n",
    "    selected_item = Any(Undefined).tag(sync=True)\n",
    "    template = Unicode('''<v-select label=\"iets\" :items=\"items\" multiple v-model=\"selected_item\"></v-select>''').tag(sync=True)\n",
    "\n",
    "select3 = Select3(\n",
    "    items=[{\"text\": \"a\", \"value\": 1},\n",
    "           {\"text\": \"b\", \"value\": 3.14},\n",
    "           {\"text\": \"c\", \"value\": \"hoi\"},])\n",
    "    \n",
    "select3    "
   ]
  },
  {
   "cell_type": "code",
   "execution_count": null,
   "metadata": {},
   "outputs": [],
   "source": [
    "select3.selected_item"
   ]
  },
  {
   "cell_type": "code",
   "execution_count": 31,
   "metadata": {},
   "outputs": [
    {
     "data": {
      "application/vnd.jupyter.widget-view+json": {
       "model_id": "28a8edced7884041aafd19d7252be032",
       "version_major": 2,
       "version_minor": 0
      },
      "text/plain": [
       "VuetifyTemplate(template='\\n    <v-tabs>\\n        <v-tab>a</v-tab>\\n        <v-tab>b</v-tab>\\n        <v-tab>c…"
      ]
     },
     "metadata": {},
     "output_type": "display_data"
    }
   ],
   "source": [
    "v2.VuetifyTemplate(template='''\n",
    "    <v-tabs>\n",
    "        <v-tab>a</v-tab>\n",
    "        <v-tab>b</v-tab>\n",
    "        <v-tab>c</v-tab>\n",
    "        <v-tab-item>Text a</v-tab-item>\n",
    "        <v-tab-item>Text b</v-tab-item>\n",
    "        <v-tab-item>Text c</v-tab-item>\n",
    "    </v-tabs>\n",
    "''')"
   ]
  },
  {
   "cell_type": "code",
   "execution_count": null,
   "metadata": {},
   "outputs": [],
   "source": []
  }
 ],
 "metadata": {
  "kernelspec": {
   "display_name": "Python 3",
   "language": "python",
   "name": "python3"
  },
  "language_info": {
   "codemirror_mode": {
    "name": "ipython",
    "version": 3
   },
   "file_extension": ".py",
   "mimetype": "text/x-python",
   "name": "python",
   "nbconvert_exporter": "python",
   "pygments_lexer": "ipython3",
   "version": "3.7.1"
  }
 },
 "nbformat": 4,
 "nbformat_minor": 2
}
