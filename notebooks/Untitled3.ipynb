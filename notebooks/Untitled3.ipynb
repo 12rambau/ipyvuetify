{
 "cells": [
  {
   "cell_type": "code",
   "execution_count": null,
   "metadata": {},
   "outputs": [],
   "source": [
    "import ipywidgets\n",
    "import ipyvuetify.generated as v\n",
    "import ipyvuetify as v2\n",
    "import logging\n",
    "logging.info(\"notebook\")"
   ]
  },
  {
   "cell_type": "code",
   "execution_count": null,
   "metadata": {},
   "outputs": [],
   "source": [
    "%%HTML\n",
    "<link href=\"https://fonts.googleapis.com/css?family=Roboto:100,300,400,500,700,900|Material+Icons\" rel=\"stylesheet\">"
   ]
  },
  {
   "cell_type": "code",
   "execution_count": null,
   "metadata": {},
   "outputs": [],
   "source": [
    "sl = v.Slider(value=40)\n",
    "sl"
   ]
  },
  {
   "cell_type": "code",
   "execution_count": null,
   "metadata": {},
   "outputs": [],
   "source": []
  },
  {
   "cell_type": "code",
   "execution_count": null,
   "metadata": {},
   "outputs": [],
   "source": [
    "sltext = v.Text(value=\"hoi\")\n",
    "# ipywidgets.jslink((sl, 'value'), (sltext, 'value'))\n",
    "sltext"
   ]
  },
  {
   "cell_type": "code",
   "execution_count": null,
   "metadata": {},
   "outputs": [],
   "source": [
    "sltext.value = \"hoi\""
   ]
  },
  {
   "cell_type": "code",
   "execution_count": null,
   "metadata": {},
   "outputs": [],
   "source": [
    "text = v.Text(value=\"iets\")\n",
    "icon = v.Icon(right = True, large = True, color = \"yellow\", children=[\"fingerprint\"])\n",
    "button = v.Btn(\n",
    "    round = True,\n",
    "    color = \"blue\",\n",
    "    children = [\n",
    "        text, \n",
    "        icon])\n",
    "\n",
    "def on_click(widget, event, data):\n",
    "    if widget.color == \"blue\":\n",
    "        widget.color = \"red\"\n",
    "    else:    \n",
    "        widget.color = \"blue\"\n",
    "    logging.info(f\"click notebook {data}\")\n",
    "\n",
    "button\n"
   ]
  },
  {
   "cell_type": "code",
   "execution_count": null,
   "metadata": {},
   "outputs": [],
   "source": [
    "flex = v.Flex(xs2=True, children=[button])\n",
    "flex\n"
   ]
  },
  {
   "cell_type": "code",
   "execution_count": null,
   "metadata": {},
   "outputs": [],
   "source": [
    "if button.events:\n",
    "    button.on_event(\"click\", on_click, True)\n",
    "else:    \n",
    "    button.on_event(\"click\", on_click)"
   ]
  },
  {
   "cell_type": "code",
   "execution_count": null,
   "metadata": {},
   "outputs": [],
   "source": [
    "#button.children=[text, v.Icon(right = True, large = True, color = \"yellow\", children=[\"fingerprint\"])]\n",
    "icon.color = \"yellow\""
   ]
  },
  {
   "cell_type": "code",
   "execution_count": null,
   "metadata": {},
   "outputs": [],
   "source": [
    "#flex.xs2 = False"
   ]
  },
  {
   "cell_type": "code",
   "execution_count": null,
   "metadata": {},
   "outputs": [],
   "source": [
    "#flex.children = [button, v.Btn(children=[\"btn2\"])]"
   ]
  },
  {
   "cell_type": "code",
   "execution_count": null,
   "metadata": {},
   "outputs": [],
   "source": [
    "v.Icon(right = True, large = True, color = \"yellow\", children=[\"fingerprint\"])"
   ]
  },
  {
   "cell_type": "code",
   "execution_count": null,
   "metadata": {},
   "outputs": [],
   "source": [
    "info = v.Text(value=\"-\")\n",
    "info"
   ]
  },
  {
   "cell_type": "code",
   "execution_count": null,
   "metadata": {},
   "outputs": [],
   "source": [
    "calendar = v.Calendar()\n",
    "calendar"
   ]
  },
  {
   "cell_type": "code",
   "execution_count": null,
   "metadata": {},
   "outputs": [],
   "source": [
    "def on_date_change(widget, event=None, data=None):\n",
    "    info.value = f\"{event} {data}\" \n",
    "    logging(f\"asdad\")"
   ]
  },
  {
   "cell_type": "code",
   "execution_count": null,
   "metadata": {},
   "outputs": [],
   "source": [
    "if calendar.events:\n",
    "    calendar.on_event(\"click:date\", on_date_change, True)\n",
    "else:\n",
    "    calendar.on_event(\"click:date\", on_date_change)\n"
   ]
  },
  {
   "cell_type": "code",
   "execution_count": null,
   "metadata": {},
   "outputs": [],
   "source": []
  }
 ],
 "metadata": {
  "kernelspec": {
   "display_name": "Python 3",
   "language": "python",
   "name": "python3"
  },
  "language_info": {
   "codemirror_mode": {
    "name": "ipython",
    "version": 3
   },
   "file_extension": ".py",
   "mimetype": "text/x-python",
   "name": "python",
   "nbconvert_exporter": "python",
   "pygments_lexer": "ipython3",
   "version": "3.7.1"
  }
 },
 "nbformat": 4,
 "nbformat_minor": 2
}
