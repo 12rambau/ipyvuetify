{
 "cells": [
  {
   "cell_type": "markdown",
   "metadata": {},
   "source": [
    "# Hospitis similem\n",
    "\n",
    "## Succincta ergo ego ut mundi acclinia Pervenit\n",
    "\n",
    "Lorem markdownum agisque Amyclide vocat quibus. Ipse vindicat; **Charybdin\n",
    "conplexus** non mihi iam et positoque primo permanet suo vaga tendebam manus\n",
    "dextra sermone supplex nobis. Secundo guttur equus et semper torquere mirantia,\n",
    "caelo pares cannis. Bonis et ad, etiam, est consuetaque cuius. Aetatem discidii\n",
    "ruborem plumeus vasta nemus morem, dum fonti iam, patriam renarrant vacuum\n",
    "labefactus.\n",
    "\n",
    "Feruntur aura adstas transtulit antiqui Cadmeides pectore mihi illa et, orbem,\n",
    "Proserpina rustica. Erat nostris.\n",
    "\n",
    "## Mea facta tristia exhibuere lustrat candidus caelo\n",
    "\n",
    "Et saepe omnipotens mixtaque *sententia fessa*, feci suis quod quibus sanguine\n",
    "saeviat vacca, **Protesilae** danda iuvat, ferrum! Hiatu protendens rubra natam\n",
    "crura in voluisti geminasque vultu dempsisse ait non: omnes praedone alieno\n",
    "*populos valvis*. Victa [forte](http://locus-vulnus.io/) domo *et* invicti\n",
    "sinistra, area est; inferius.\n",
    "\n",
    "## Pedes si diffundi\n",
    "\n",
    "Ille omnes in [spectem tamen](http://oculosveste.net/), est tardus iamque\n",
    "**morsus et**, nil locorum dedit bulla [genu](http://quendam-semper.org/).\n",
    "Regionibus trabesque templa facite cum veneratus fama unda Hylonome experiar,\n",
    "infernum freta, et huc. Teque iterumque pugnant **lumina** indignanda redit\n",
    "visum; [quis](http://nec.io/inanes) enim timuit iuvenis. Summis nec cedere se\n",
    "satis et corpore isto!\n",
    "\n",
    "## Fugias tot tectis numinis\n",
    "\n",
    "Feremus omnia Philemon *pluvialis piacula*; in tristia. Est barbara viroque\n",
    "qualem perstant Lycabas, deos cum. Facta triplices iacere agam **facinus**\n",
    "caecus quid forem venae pelagi effugit innoxia Tirynthius deus magnae Iuventae?\n",
    "Veterumque aethere concurreret calidumque **cernens deterritus decipiat** medii\n",
    "mater umbrosa? Saepe **pudore** rura esse cornua in pectore retroque lapillos,\n",
    "subiit perpetuo, temerarius deam talibus, cetera nunc.\n",
    "\n",
    "> Pete hanc, surgimus *puniceum*, equi vellet, regina, tectum abstinuit quod,\n",
    "> nisi stipite. Apertum quae, comas eumque.\n",
    "\n",
    "In ille; feliciter **recentes** terras videndo dextera; erant meae gesserit\n",
    "*nepotum* aevi potitur! Nunc sed, in tam, te Oceani illic etiam!"
   ]
  },
  {
   "cell_type": "markdown",
   "metadata": {},
   "source": [
    "# Hospitis similem\n",
    "\n",
    "## Succincta ergo ego ut mundi acclinia Pervenit\n",
    "\n",
    "Lorem markdownum agisque Amyclide vocat quibus. Ipse vindicat; **Charybdin\n",
    "conplexus** non mihi iam et positoque primo permanet suo vaga tendebam manus\n",
    "dextra sermone supplex nobis. Secundo guttur equus et semper torquere mirantia,\n",
    "caelo pares cannis. Bonis et ad, etiam, est consuetaque cuius. Aetatem discidii\n",
    "ruborem plumeus vasta nemus morem, dum fonti iam, patriam renarrant vacuum\n",
    "labefactus.\n",
    "\n",
    "Feruntur aura adstas transtulit antiqui Cadmeides pectore mihi illa et, orbem,\n",
    "Proserpina rustica. Erat nostris.\n",
    "\n",
    "## Mea facta tristia exhibuere lustrat candidus caelo\n",
    "\n",
    "Et saepe omnipotens mixtaque *sententia fessa*, feci suis quod quibus sanguine\n",
    "saeviat vacca, **Protesilae** danda iuvat, ferrum! Hiatu protendens rubra natam\n",
    "crura in voluisti geminasque vultu dempsisse ait non: omnes praedone alieno\n",
    "*populos valvis*. Victa [forte](http://locus-vulnus.io/) domo *et* invicti\n",
    "sinistra, area est; inferius.\n",
    "\n",
    "## Pedes si diffundi\n",
    "\n",
    "Ille omnes in [spectem tamen](http://oculosveste.net/), est tardus iamque\n",
    "**morsus et**, nil locorum dedit bulla [genu](http://quendam-semper.org/).\n",
    "Regionibus trabesque templa facite cum veneratus fama unda Hylonome experiar,\n",
    "infernum freta, et huc. Teque iterumque pugnant **lumina** indignanda redit\n",
    "visum; [quis](http://nec.io/inanes) enim timuit iuvenis. Summis nec cedere se\n",
    "satis et corpore isto!\n",
    "\n",
    "## Fugias tot tectis numinis\n",
    "\n",
    "Feremus omnia Philemon *pluvialis piacula*; in tristia. Est barbara viroque\n",
    "qualem perstant Lycabas, deos cum. Facta triplices iacere agam **facinus**\n",
    "caecus quid forem venae pelagi effugit innoxia Tirynthius deus magnae Iuventae?\n",
    "Veterumque aethere concurreret calidumque **cernens deterritus decipiat** medii\n",
    "mater umbrosa? Saepe **pudore** rura esse cornua in pectore retroque lapillos,\n",
    "subiit perpetuo, temerarius deam talibus, cetera nunc.\n",
    "\n",
    "> Pete hanc, surgimus *puniceum*, equi vellet, regina, tectum abstinuit quod,\n",
    "> nisi stipite. Apertum quae, comas eumque.\n",
    "\n",
    "In ille; feliciter **recentes** terras videndo dextera; erant meae gesserit\n",
    "*nepotum* aevi potitur! Nunc sed, in tam, te Oceani illic etiam!\n"
   ]
  },
  {
   "cell_type": "code",
   "execution_count": 6,
   "metadata": {},
   "outputs": [],
   "source": [
    "import ipywidgets as widgets\n",
    "import ipyvuetify.generated as v\n",
    "import ipyvuetify as v2\n",
    "\n",
    "from traitlets import (\n",
    "    Unicode, Enum, Instance, Union, Float, Int, List, Tuple, Dict,\n",
    "    Undefined, Bool, Any\n",
    ")\n",
    "    "
   ]
  },
  {
   "cell_type": "code",
   "execution_count": 7,
   "metadata": {},
   "outputs": [],
   "source": [
    "class MyMenu(v2.AnyVue):\n",
    "    color = Unicode(\"primary\").tag(sync=True)\n",
    "    colors = List([\"error\", \"primary\", \"yellow\", \"pink\"]).tag(sync=True)\n",
    "    items = List([\"Click Me\", \"Click Me\", \"Click Me\", \"Click Me2\"]).tag(sync=True)\n"
   ]
  },
  {
   "cell_type": "code",
   "execution_count": 11,
   "metadata": {},
   "outputs": [
    {
     "data": {
      "application/vnd.jupyter.widget-view+json": {
       "model_id": "c92a788c524c43a08245bcb42f029ea2",
       "version_major": 2,
       "version_minor": 0
      },
      "text/plain": [
       "MyMenu(colors=['error', 'primary', 'yellow', 'pink'], items=['Click Me', 'Click Me', 'Click Me', 'Click Me2'],…"
      ]
     },
     "metadata": {},
     "output_type": "display_data"
    }
   ],
   "source": [
    "myMenu = MyMenu(template='''\n",
    "<div class=\"text-xs-center\" >\n",
    "    <v-menu attatch=\"#bla\">\n",
    "      <template v-slot:activator=\"{ on }\">\n",
    "        <v-btn\n",
    "          id='bla'\n",
    "          :color=\"color\"\n",
    "          dark\n",
    "          v-on=\"on\">\n",
    "          Dropdown\n",
    "        </v-btn>\n",
    "      </template>\n",
    "      <v-list>\n",
    "        <v-list-tile\n",
    "          v-for=\"(item, index) in items\"\n",
    "          :key=\"index\"\n",
    "          @click=\"klik(index)\">\n",
    "          <v-list-tile-title>{{ item }}</v-list-tile-title>\n",
    "        </v-list-tile>\n",
    "      </v-list>\n",
    "    </v-menu>\n",
    "</div>''')\n",
    "myMenu"
   ]
  },
  {
   "cell_type": "code",
   "execution_count": 10,
   "metadata": {},
   "outputs": [
    {
     "data": {
      "application/vnd.jupyter.widget-view+json": {
       "model_id": "45d5faa89f6e46918063f8d280b75fd5",
       "version_major": 2,
       "version_minor": 0
      },
      "text/plain": [
       "AnyVue(template='<v-slider></v-slider>')"
      ]
     },
     "metadata": {},
     "output_type": "display_data"
    }
   ],
   "source": [
    "v2.AnyVue(template='''<v-slider></v-slider>''')"
   ]
  },
  {
   "cell_type": "code",
   "execution_count": null,
   "metadata": {},
   "outputs": [],
   "source": []
  }
 ],
 "metadata": {
  "kernelspec": {
   "display_name": "Python 3",
   "language": "python",
   "name": "python3"
  },
  "language_info": {
   "codemirror_mode": {
    "name": "ipython",
    "version": 3
   },
   "file_extension": ".py",
   "mimetype": "text/x-python",
   "name": "python",
   "nbconvert_exporter": "python",
   "pygments_lexer": "ipython3",
   "version": "3.7.1"
  }
 },
 "nbformat": 4,
 "nbformat_minor": 2
}
