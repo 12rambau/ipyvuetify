{
 "cells": [
  {
   "cell_type": "code",
   "execution_count": 13,
   "metadata": {},
   "outputs": [],
   "source": [
    "import ipywidgets\n",
    "# import ipyvuetify\n",
    "import ipyvuetify as v\n",
    "\n"
   ]
  },
  {
   "cell_type": "code",
   "execution_count": 14,
   "metadata": {},
   "outputs": [
    {
     "data": {
      "text/html": [
       "<link href=\"https://fonts.googleapis.com/css?family=Roboto:100,300,400,500,700,900|Material+Icons\" rel=\"stylesheet\">\n"
      ],
      "text/plain": [
       "<IPython.core.display.HTML object>"
      ]
     },
     "metadata": {},
     "output_type": "display_data"
    }
   ],
   "source": [
    "%%HTML\n",
    "<link href=\"https://fonts.googleapis.com/css?family=Roboto:100,300,400,500,700,900|Material+Icons\" rel=\"stylesheet\">"
   ]
  },
  {
   "cell_type": "code",
   "execution_count": null,
   "metadata": {
    "scrolled": false
   },
   "outputs": [],
   "source": [
    "button = v.Button(\n",
    "    v.round,\n",
    "#      v.Button.vround,\n",
    "    color = \"info\",\n",
    "    test1 = \"hoi\",\n",
    "    children = [\n",
    "        v.Text(\"hoi23\"), \n",
    "        v.Icon(\"home\", v.right, v.xLarge, color = \"yellow\")]) \n",
    "button\n"
   ]
  },
  {
   "cell_type": "code",
   "execution_count": 15,
   "metadata": {},
   "outputs": [
    {
     "data": {
      "application/vnd.jupyter.widget-view+json": {
       "model_id": "a69106c074754ea3a695f7283e60583c",
       "version_major": 2,
       "version_minor": 0
      },
      "text/plain": [
       "Btn(children=[Text(value='hoi23'), Icon(color='yellow', right=True, value='home', xLarge=True)], color='info',…"
      ]
     },
     "metadata": {},
     "output_type": "display_data"
    }
   ],
   "source": [
    "text = v.Text(value = \"hoi23\")\n",
    "\n",
    "button = v.Btn(\n",
    "    round = True,\n",
    "#      v.Button.vround,\n",
    "    color = \"info\",\n",
    "    children = [\n",
    "        text, \n",
    "        v.Icon(value =\"home\", right = True, xLarge = True, color = \"yellow\")])\n",
    "button"
   ]
  },
  {
   "cell_type": "code",
   "execution_count": 18,
   "metadata": {},
   "outputs": [],
   "source": [
    "text.value = \"rrtrt\""
   ]
  },
  {
   "cell_type": "code",
   "execution_count": null,
   "metadata": {},
   "outputs": [],
   "source": []
  }
 ],
 "metadata": {
  "kernelspec": {
   "display_name": "Python 3",
   "language": "python",
   "name": "python3"
  },
  "language_info": {
   "codemirror_mode": {
    "name": "ipython",
    "version": 3
   },
   "file_extension": ".py",
   "mimetype": "text/x-python",
   "name": "python",
   "nbconvert_exporter": "python",
   "pygments_lexer": "ipython3",
   "version": "3.7.1"
  }
 },
 "nbformat": 4,
 "nbformat_minor": 2
}
