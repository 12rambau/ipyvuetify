{
 "cells": [
  {
   "cell_type": "code",
   "execution_count": null,
   "metadata": {},
   "outputs": [],
   "source": [
    "import ipywidgets\n",
    "import ipyvuetify as v\n",
    "from threading import Timer\n",
    "\n",
    "lorum_ipsum = 'Lorem ipsum dolor sit amet, consectetur adipiscing elit, sed do eiusmod tempor incididunt ut labore et dolore magna aliqua. Ut enim ad minim veniam, quis nostrud exercitation ullamco laboris nisi ut aliquip ex ea commodo consequat. Duis aute irure dolor in reprehenderit in voluptate velit esse cillum dolore eu fugiat nulla pariatur. Excepteur sint occaecat cupidatat non proident, sunt in culpa qui officia deserunt mollit anim id est laborum.'"
   ]
  },
  {
   "cell_type": "code",
   "execution_count": null,
   "metadata": {},
   "outputs": [],
   "source": [
    "count = 0\n",
    "\n",
    "def on_click(widget, event, data):\n",
    "    global count\n",
    "    count += 1\n",
    "    button1.children=[f'button {count}']\n",
    "\n",
    "button1 = v.Btn(children=['button'])\n",
    "button1.on_event('click', on_click)\n",
    "\n",
    "v.Layout(children=[button1])"
   ]
  },
  {
   "cell_type": "code",
   "execution_count": null,
   "metadata": {},
   "outputs": [],
   "source": [
    "v.Layout(children=[\n",
    "    v.Btn(color='primary', children=['primary']),\n",
    "    v.Btn(color='error', children=['error']),\n",
    "    v.Btn(color='pink lighten-4', children=['custom']),\n",
    "    v.Btn(color='#654321', dark=True, children=['hex']),\n",
    "    v.Btn(color='#654321', disabled=True, children=['disabled']),\n",
    "\n",
    "])"
   ]
  },
  {
   "cell_type": "code",
   "execution_count": null,
   "metadata": {},
   "outputs": [],
   "source": [
    "v.Layout(children=[\n",
    "    v.Btn(color='primary', flat=True, children=['flat']),\n",
    "    v.Btn(color='primary', flat=True, disabled=True, children=['flat']),\n",
    "    v.Btn(color='primary', round=True, children=['round']),\n",
    "    v.Btn(color='primary', round=True, disabled=True, children=['round']),\n",
    "    v.Btn(color='primary', depressed=True, children=['depressed']),\n",
    "    v.Btn(color='primary', flat=True, icon=True, children=[v.Icon(children=['thumb_up'])]),\n",
    "    v.Btn(color='primary', outline=True, children=['outline']),\n",
    "])"
   ]
  },
  {
   "cell_type": "code",
   "execution_count": null,
   "metadata": {},
   "outputs": [],
   "source": [
    "v.Layout(children=[\n",
    "    v.Btn(color='primary', small=True, children=['small']),\n",
    "    v.Btn(color='primary', children=['normal']),\n",
    "    v.Btn(color='primary', large=True, children=['large']),\n",
    "    v.Btn(color='primary', small=True, fab=True, children=[v.Icon(children=['edit'])]),\n",
    "    v.Btn(color='primary', fab=True, children=[v.Icon(children=['edit'])]),\n",
    "    v.Btn(color='primary', fab=True, large=True, children=[v.Icon(children=['edit'])]),\n",
    "])"
   ]
  },
  {
   "cell_type": "code",
   "execution_count": null,
   "metadata": {},
   "outputs": [],
   "source": [
    "def toggleLoading():\n",
    "    button2.loading = not button2.loading\n",
    "    button2.disabled = button2.loading\n",
    "\n",
    "def on_loader_click(*args):\n",
    "    toggleLoading()\n",
    "    Timer(2.0, toggleLoading).start()\n",
    "    \n",
    "button2 = v.Btn(loading=False, children=['loader'])\n",
    "button2.on_event('click', on_loader_click)\n",
    "\n",
    "v.Layout(children=[button2])"
   ]
  },
  {
   "cell_type": "code",
   "execution_count": null,
   "metadata": {},
   "outputs": [],
   "source": [
    "toggle_single = v.BtnToggle(v_model=2, class_='mr-3', children=[\n",
    "    v.Btn(flat=True, children=[v.Icon(children=['format_align_left'])]),\n",
    "    v.Btn(flat=True, children=[v.Icon(children=['format_align_center'])]),\n",
    "    v.Btn(flat=True, children=[v.Icon(children=['format_align_right'])]),\n",
    "    v.Btn(flat=True, children=[v.Icon(children=['format_align_justify'])]),\n",
    "])\n",
    "\n",
    "toggle_multi = v.BtnToggle(v_model=[0,2], multiple=True, children=[\n",
    "    v.Btn(flat=True, children=[v.Icon(children=['format_bold'])]),\n",
    "    v.Btn(flat=True, children=[v.Icon(children=['format_italic'])]),\n",
    "    v.Btn(flat=True, children=[v.Icon(children=['format_underline'])]),\n",
    "    v.Btn(flat=True, children=[v.Icon(children=['format_color_fill'])]),\n",
    "])\n",
    "\n",
    "v.Layout(children=[\n",
    "    toggle_single,\n",
    "    toggle_multi,\n",
    "])"
   ]
  },
  {
   "cell_type": "code",
   "execution_count": null,
   "metadata": {},
   "outputs": [],
   "source": [
    "v.Layout(children=[\n",
    "    v.Btn(color='primary', children=[\n",
    "        v.Icon(left=True, children=['fingerprint']),\n",
    "        'Icon left'\n",
    "    ]),\n",
    "    v.Btn(color='primary', children=[\n",
    "        'Icon right',\n",
    "        v.Icon(right=True, children=['fingerprint']),\n",
    "    ]),\n",
    "    v.Tooltip(bottom=True, children=[\n",
    "        v.Btn(slot='activator', color='primary', children=[\n",
    "           'tooltip' \n",
    "        ]),\n",
    "        'Insert tooltip text here'\n",
    "    ])    \n",
    "])"
   ]
  },
  {
   "cell_type": "code",
   "execution_count": null,
   "metadata": {
    "scrolled": false
   },
   "outputs": [],
   "source": [
    "def on_menu_click(widget, event, data):\n",
    "    if len(layout.children) == 1:\n",
    "        layout.children = layout.children + [info]\n",
    "    info.children=[f'Item {items.index(widget)+1} clicked']\n",
    "    \n",
    "\n",
    "items = [v.ListTile(children=[\n",
    "    v.ListTileTitle(children=[\n",
    "        f'Click me {i}'])]) \n",
    "         for i in range(1, 5)]\n",
    "\n",
    "for item in items:\n",
    "    item.on_event('click', on_menu_click)\n",
    "\n",
    "menu = v.Menu(offset_y=True, children=[\n",
    "    v.Btn(slot='activator', color='primary', children=[\n",
    "        'menu', \n",
    "        v.Icon(right=True, children=[\n",
    "            'arrow_drop_down'\n",
    "        ])\n",
    "    ]),\n",
    "    v.List(children=items)\n",
    "])\n",
    "\n",
    "info = v.Chip()\n",
    "\n",
    "layout = v.Layout(children=[\n",
    "    menu\n",
    "])\n",
    "layout"
   ]
  },
  {
   "cell_type": "code",
   "execution_count": null,
   "metadata": {},
   "outputs": [],
   "source": [
    "v.Dialog(v_model=False, width='500', children=[\n",
    "        v.Btn(slot=\"activator\", color='success', dark=True, children=[\n",
    "            \"Open dialog\"\n",
    "        ]),\n",
    "        v.Card(children=[\n",
    "            v.CardTitle(class_='headline gray lighten-2', primary_title=True, children=[\n",
    "                \"Lorem ipsum\"]),\n",
    "            v.CardText(children=[\n",
    "                lorum_ipsum])\n",
    "        ])\n",
    "    ])"
   ]
  },
  {
   "cell_type": "code",
   "execution_count": null,
   "metadata": {},
   "outputs": [],
   "source": [
    "slider = v.Slider(v_model=25)\n",
    "slider2 = v.Slider(thumb_label=True, v_model=25)\n",
    "slider3 = v.Slider(thumb_label='always', v_model=25)\n",
    "\n",
    "ipywidgets.jslink((slider, 'v_model'), (slider2, 'v_model'))\n",
    "ipywidgets.jslink((slider, 'v_model'), (slider3, 'v_model'))\n",
    "\n",
    "v.Container(children=[\n",
    "    slider,\n",
    "    slider2,\n",
    "    slider3\n",
    "])"
   ]
  },
  {
   "cell_type": "code",
   "execution_count": null,
   "metadata": {
    "scrolled": true
   },
   "outputs": [],
   "source": [
    "select1=v.Select(label=\"Choose option\", items=['Option a', 'Option b', 'Option c'])\n",
    "v.Layout(children=[select1])"
   ]
  },
  {
   "cell_type": "code",
   "execution_count": null,
   "metadata": {},
   "outputs": [],
   "source": [
    "tab_list = [v.Tab(children=[f'Tab {i}']) for i in range(1,4)]\n",
    "content_list = [v.TabItem(children=[lorum_ipsum]) for i in range(1,4)] \n",
    "tabs = v.Tabs(\n",
    "    v_model=1, \n",
    "    children=tab_list + content_list)\n",
    "tabs"
   ]
  },
  {
   "cell_type": "code",
   "execution_count": null,
   "metadata": {},
   "outputs": [],
   "source": []
  }
 ],
 "metadata": {
  "kernelspec": {
   "display_name": "Python 3",
   "language": "python",
   "name": "python3"
  },
  "language_info": {
   "codemirror_mode": {
    "name": "ipython",
    "version": 3
   },
   "file_extension": ".py",
   "mimetype": "text/x-python",
   "name": "python",
   "nbconvert_exporter": "python",
   "pygments_lexer": "ipython3",
   "version": "3.7.2"
  }
 },
 "nbformat": 4,
 "nbformat_minor": 2
}
