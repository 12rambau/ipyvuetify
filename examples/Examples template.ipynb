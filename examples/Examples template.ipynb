{
 "cells": [
  {
   "cell_type": "code",
   "execution_count": null,
   "metadata": {},
   "outputs": [],
   "source": [
    "import ipyvuetify as v\n",
    "\n",
    "from traitlets import (Unicode, List)"
   ]
  },
  {
   "cell_type": "code",
   "execution_count": null,
   "metadata": {},
   "outputs": [],
   "source": [
    "class MyMenu(v.VuetifyTemplate):\n",
    "    \n",
    "    color = Unicode('primary').tag(sync=True)\n",
    "    items = List(['red', 'green', 'purple']).tag(sync=True)\n",
    "    button_text = Unicode('menu').tag(sync=True)\n",
    "    template = Unicode('''\n",
    "        <v-layout>\n",
    "            <v-menu offset-y>\n",
    "                <template v-slot:activator=\"{ on }\">\n",
    "                    <v-btn\n",
    "                            :color=\"color\"\n",
    "                            dark\n",
    "                            v-on=\"on\">\n",
    "                        {{ button_text }}\n",
    "                    </v-btn>\n",
    "                </template>\n",
    "                <v-list>\n",
    "                    <v-list-tile\n",
    "                            v-for=\"(item, index) in items\"\n",
    "                            :key=\"index\"\n",
    "                            @click=\"menu_click(index)\">\n",
    "                        <v-list-tile-title>{{ item }}</v-list-tile-title>\n",
    "                    </v-list-tile>\n",
    "                </v-list>\n",
    "            </v-menu>\n",
    "        </v-layout>''').tag(sync=True)\n",
    "    \n",
    "    \n",
    "    def vue_menu_click(self, data):\n",
    "        self.color = self.items[data]\n",
    "        self.button_text = self.items[data]\n",
    "    \n",
    "    \n",
    "MyMenu()"
   ]
  },
  {
   "cell_type": "code",
   "execution_count": null,
   "metadata": {},
   "outputs": [],
   "source": []
  }
 ],
 "metadata": {
  "kernelspec": {
   "display_name": "Python 3",
   "language": "python",
   "name": "python3"
  },
  "language_info": {
   "codemirror_mode": {
    "name": "ipython",
    "version": 3
   },
   "file_extension": ".py",
   "mimetype": "text/x-python",
   "name": "python",
   "nbconvert_exporter": "python",
   "pygments_lexer": "ipython3",
   "version": "3.7.2"
  }
 },
 "nbformat": 4,
 "nbformat_minor": 2
}
